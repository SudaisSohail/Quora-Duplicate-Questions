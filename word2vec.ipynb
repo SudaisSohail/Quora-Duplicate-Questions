{
 "cells": [
  {
   "cell_type": "code",
   "execution_count": null,
   "id": "initial_id",
   "metadata": {
    "collapsed": true
   },
   "outputs": [],
   "source": [
    "from gensim.utils import simple_preprocess\n",
    "import pandas as pd\n",
    "import numpy as np\n",
    "import pickle\n",
    "import nltk\n",
    "nltk.download(\"punkt\")"
   ]
  },
  {
   "cell_type": "code",
   "outputs": [
    {
     "data": {
      "text/plain": "                                                question1  \\\n0          can we ever store energy produced in lightning   \n1       where can i get flexible horse fence solution ...   \n2                    how should i prepare for sbi po 2017   \n3       what are the reasons why many black people hav...   \n4       what were the major effects of the cambodia ea...   \n...                                                   ...   \n199995  what laptop is best for deep learning experiments   \n199996           can i ride horses in worldcraft  android   \n199997                       which anime are a must watch   \n199998  what is the highest temperature a human being ...   \n199999  my paytm transaction failed but amount was deb...   \n\n                                                question2  is_duplicate  \\\n0         is it possible to store the energy of lightning             1   \n1       where can i found very flexible horse fence sy...             1   \n2                        how do i prepare for sbi po 2017             1   \n3             why do some black people have yellow sclera             1   \n4       what were the major effects of the cambodia ea...             1   \n...                                                   ...           ...   \n199995  what is the best laptop i can get to learn dee...             0   \n199996     how can you get a town hall 9 account for free             0   \n199997  what are the best anime series to watch  i hav...             0   \n199998  what is the highest temperature someone has ha...             0   \n199999          can i use debit card to pay through paytm             0   \n\n        q1_len  q2_len  q1_num_words  q2_num_words  word_common  word_total  \\\n0           46      47             8             9            3          17   \n1           55      68            10            12            7          22   \n2           36      32             8             8            7          16   \n3           59      43            11             8            5          19   \n4          124     120            22            22           16          36   \n...        ...     ...           ...           ...          ...         ...   \n199995      49      66             8            14            6          22   \n199996      40      46             8            11            1          19   \n199997      28      78             6            17            3          21   \n199998      57      57            10            10            5          20   \n199999      77      41            15             9            2          24   \n\n        word_share  ...   ctc_max  last_word_eq  first_word_eq  abs_len_diff  \\\n0             0.18  ...  0.333330           1.0            0.0           1.0   \n1             0.32  ...  0.583328           1.0            1.0           2.0   \n2             0.44  ...  0.874989           1.0            1.0           0.0   \n3             0.26  ...  0.454541           0.0            0.0           3.0   \n4             0.44  ...  0.714282           0.0            1.0           0.0   \n...            ...  ...       ...           ...            ...           ...   \n199995        0.27  ...  0.428568           0.0            1.0           6.0   \n199996        0.05  ...  0.090908           0.0            0.0           4.0   \n199997        0.14  ...  0.187499           0.0            0.0          10.0   \n199998        0.25  ...  0.499995           0.0            1.0           0.0   \n199999        0.08  ...  0.142856           0.0            0.0           5.0   \n\n        mean_len  longest_substr_ratio  fuzz_ratio  fuzz_partial_ratio  \\\n0            8.5              0.212766          60                  65   \n1           11.0              0.410714          73                  67   \n2            8.0              0.787879          91                  92   \n3            9.5              0.590909          63                  79   \n4           21.0              0.793388          93                  93   \n...          ...                   ...         ...                 ...   \n199995      11.0              0.300000          63                  67   \n199996       9.0              0.097561          26                  30   \n199997      11.0              0.241379          38                  61   \n199998      10.0              0.551724          70                  70   \n199999      11.5              0.142857          12                  41   \n\n        token_sort_ratio  token_set_ratio  \n0                     67               67  \n1                     65               83  \n2                     85               95  \n3                     69               79  \n4                     92               94  \n...                  ...              ...  \n199995                63               80  \n199996                31               33  \n199997                46               70  \n199998                67               74  \n199999                41               44  \n\n[199994 rows x 25 columns]",
      "text/html": "<div>\n<style scoped>\n    .dataframe tbody tr th:only-of-type {\n        vertical-align: middle;\n    }\n\n    .dataframe tbody tr th {\n        vertical-align: top;\n    }\n\n    .dataframe thead th {\n        text-align: right;\n    }\n</style>\n<table border=\"1\" class=\"dataframe\">\n  <thead>\n    <tr style=\"text-align: right;\">\n      <th></th>\n      <th>question1</th>\n      <th>question2</th>\n      <th>is_duplicate</th>\n      <th>q1_len</th>\n      <th>q2_len</th>\n      <th>q1_num_words</th>\n      <th>q2_num_words</th>\n      <th>word_common</th>\n      <th>word_total</th>\n      <th>word_share</th>\n      <th>...</th>\n      <th>ctc_max</th>\n      <th>last_word_eq</th>\n      <th>first_word_eq</th>\n      <th>abs_len_diff</th>\n      <th>mean_len</th>\n      <th>longest_substr_ratio</th>\n      <th>fuzz_ratio</th>\n      <th>fuzz_partial_ratio</th>\n      <th>token_sort_ratio</th>\n      <th>token_set_ratio</th>\n    </tr>\n  </thead>\n  <tbody>\n    <tr>\n      <th>0</th>\n      <td>can we ever store energy produced in lightning</td>\n      <td>is it possible to store the energy of lightning</td>\n      <td>1</td>\n      <td>46</td>\n      <td>47</td>\n      <td>8</td>\n      <td>9</td>\n      <td>3</td>\n      <td>17</td>\n      <td>0.18</td>\n      <td>...</td>\n      <td>0.333330</td>\n      <td>1.0</td>\n      <td>0.0</td>\n      <td>1.0</td>\n      <td>8.5</td>\n      <td>0.212766</td>\n      <td>60</td>\n      <td>65</td>\n      <td>67</td>\n      <td>67</td>\n    </tr>\n    <tr>\n      <th>1</th>\n      <td>where can i get flexible horse fence solution ...</td>\n      <td>where can i found very flexible horse fence sy...</td>\n      <td>1</td>\n      <td>55</td>\n      <td>68</td>\n      <td>10</td>\n      <td>12</td>\n      <td>7</td>\n      <td>22</td>\n      <td>0.32</td>\n      <td>...</td>\n      <td>0.583328</td>\n      <td>1.0</td>\n      <td>1.0</td>\n      <td>2.0</td>\n      <td>11.0</td>\n      <td>0.410714</td>\n      <td>73</td>\n      <td>67</td>\n      <td>65</td>\n      <td>83</td>\n    </tr>\n    <tr>\n      <th>2</th>\n      <td>how should i prepare for sbi po 2017</td>\n      <td>how do i prepare for sbi po 2017</td>\n      <td>1</td>\n      <td>36</td>\n      <td>32</td>\n      <td>8</td>\n      <td>8</td>\n      <td>7</td>\n      <td>16</td>\n      <td>0.44</td>\n      <td>...</td>\n      <td>0.874989</td>\n      <td>1.0</td>\n      <td>1.0</td>\n      <td>0.0</td>\n      <td>8.0</td>\n      <td>0.787879</td>\n      <td>91</td>\n      <td>92</td>\n      <td>85</td>\n      <td>95</td>\n    </tr>\n    <tr>\n      <th>3</th>\n      <td>what are the reasons why many black people hav...</td>\n      <td>why do some black people have yellow sclera</td>\n      <td>1</td>\n      <td>59</td>\n      <td>43</td>\n      <td>11</td>\n      <td>8</td>\n      <td>5</td>\n      <td>19</td>\n      <td>0.26</td>\n      <td>...</td>\n      <td>0.454541</td>\n      <td>0.0</td>\n      <td>0.0</td>\n      <td>3.0</td>\n      <td>9.5</td>\n      <td>0.590909</td>\n      <td>63</td>\n      <td>79</td>\n      <td>69</td>\n      <td>79</td>\n    </tr>\n    <tr>\n      <th>4</th>\n      <td>what were the major effects of the cambodia ea...</td>\n      <td>what were the major effects of the cambodia ea...</td>\n      <td>1</td>\n      <td>124</td>\n      <td>120</td>\n      <td>22</td>\n      <td>22</td>\n      <td>16</td>\n      <td>36</td>\n      <td>0.44</td>\n      <td>...</td>\n      <td>0.714282</td>\n      <td>0.0</td>\n      <td>1.0</td>\n      <td>0.0</td>\n      <td>21.0</td>\n      <td>0.793388</td>\n      <td>93</td>\n      <td>93</td>\n      <td>92</td>\n      <td>94</td>\n    </tr>\n    <tr>\n      <th>...</th>\n      <td>...</td>\n      <td>...</td>\n      <td>...</td>\n      <td>...</td>\n      <td>...</td>\n      <td>...</td>\n      <td>...</td>\n      <td>...</td>\n      <td>...</td>\n      <td>...</td>\n      <td>...</td>\n      <td>...</td>\n      <td>...</td>\n      <td>...</td>\n      <td>...</td>\n      <td>...</td>\n      <td>...</td>\n      <td>...</td>\n      <td>...</td>\n      <td>...</td>\n      <td>...</td>\n    </tr>\n    <tr>\n      <th>199995</th>\n      <td>what laptop is best for deep learning experiments</td>\n      <td>what is the best laptop i can get to learn dee...</td>\n      <td>0</td>\n      <td>49</td>\n      <td>66</td>\n      <td>8</td>\n      <td>14</td>\n      <td>6</td>\n      <td>22</td>\n      <td>0.27</td>\n      <td>...</td>\n      <td>0.428568</td>\n      <td>0.0</td>\n      <td>1.0</td>\n      <td>6.0</td>\n      <td>11.0</td>\n      <td>0.300000</td>\n      <td>63</td>\n      <td>67</td>\n      <td>63</td>\n      <td>80</td>\n    </tr>\n    <tr>\n      <th>199996</th>\n      <td>can i ride horses in worldcraft  android</td>\n      <td>how can you get a town hall 9 account for free</td>\n      <td>0</td>\n      <td>40</td>\n      <td>46</td>\n      <td>8</td>\n      <td>11</td>\n      <td>1</td>\n      <td>19</td>\n      <td>0.05</td>\n      <td>...</td>\n      <td>0.090908</td>\n      <td>0.0</td>\n      <td>0.0</td>\n      <td>4.0</td>\n      <td>9.0</td>\n      <td>0.097561</td>\n      <td>26</td>\n      <td>30</td>\n      <td>31</td>\n      <td>33</td>\n    </tr>\n    <tr>\n      <th>199997</th>\n      <td>which anime are a must watch</td>\n      <td>what are the best anime series to watch  i hav...</td>\n      <td>0</td>\n      <td>28</td>\n      <td>78</td>\n      <td>6</td>\n      <td>17</td>\n      <td>3</td>\n      <td>21</td>\n      <td>0.14</td>\n      <td>...</td>\n      <td>0.187499</td>\n      <td>0.0</td>\n      <td>0.0</td>\n      <td>10.0</td>\n      <td>11.0</td>\n      <td>0.241379</td>\n      <td>38</td>\n      <td>61</td>\n      <td>46</td>\n      <td>70</td>\n    </tr>\n    <tr>\n      <th>199998</th>\n      <td>what is the highest temperature a human being ...</td>\n      <td>what is the highest temperature someone has ha...</td>\n      <td>0</td>\n      <td>57</td>\n      <td>57</td>\n      <td>10</td>\n      <td>10</td>\n      <td>5</td>\n      <td>20</td>\n      <td>0.25</td>\n      <td>...</td>\n      <td>0.499995</td>\n      <td>0.0</td>\n      <td>1.0</td>\n      <td>0.0</td>\n      <td>10.0</td>\n      <td>0.551724</td>\n      <td>70</td>\n      <td>70</td>\n      <td>67</td>\n      <td>74</td>\n    </tr>\n    <tr>\n      <th>199999</th>\n      <td>my paytm transaction failed but amount was deb...</td>\n      <td>can i use debit card to pay through paytm</td>\n      <td>0</td>\n      <td>77</td>\n      <td>41</td>\n      <td>15</td>\n      <td>9</td>\n      <td>2</td>\n      <td>24</td>\n      <td>0.08</td>\n      <td>...</td>\n      <td>0.142856</td>\n      <td>0.0</td>\n      <td>0.0</td>\n      <td>5.0</td>\n      <td>11.5</td>\n      <td>0.142857</td>\n      <td>12</td>\n      <td>41</td>\n      <td>41</td>\n      <td>44</td>\n    </tr>\n  </tbody>\n</table>\n<p>199994 rows × 25 columns</p>\n</div>"
     },
     "execution_count": 3,
     "metadata": {},
     "output_type": "execute_result"
    }
   ],
   "source": [
    "df = pd.read_csv(\"ques_with_heuristic_feat.csv\").dropna()\n",
    "df"
   ],
   "metadata": {
    "collapsed": false,
    "ExecuteTime": {
     "end_time": "2024-08-21T15:42:45.095951800Z",
     "start_time": "2024-08-21T15:42:42.640952900Z"
    }
   },
   "id": "e3fc11d4f3dfb3e9",
   "execution_count": 3
  },
  {
   "cell_type": "code",
   "outputs": [],
   "source": [
    "file = open(\"word2vec_model.pkl\", \"rb\")\n",
    "model = pickle.load(file)"
   ],
   "metadata": {
    "collapsed": false,
    "ExecuteTime": {
     "end_time": "2024-08-21T15:43:10.150672700Z",
     "start_time": "2024-08-21T15:42:54.242432500Z"
    }
   },
   "id": "a1f5106fefefbaf1",
   "execution_count": 4
  },
  {
   "cell_type": "code",
   "outputs": [],
   "source": [
    "q1 = df['question1'].to_numpy()\n",
    "q2 = df['question2'].to_numpy()"
   ],
   "metadata": {
    "collapsed": false,
    "ExecuteTime": {
     "end_time": "2024-08-21T15:43:10.152667300Z",
     "start_time": "2024-08-21T15:43:10.139702800Z"
    }
   },
   "id": "559a4efb0d77b9bc",
   "execution_count": 5
  },
  {
   "cell_type": "code",
   "outputs": [],
   "source": [
    "processed_q1 = []\n",
    "\n",
    "for sent in q1:\n",
    "    processed_q1.append(simple_preprocess(sent))\n",
    "\n",
    "processed_q2 = []\n",
    "\n",
    "for sent in q2:\n",
    "    processed_q2.append(simple_preprocess(sent))"
   ],
   "metadata": {
    "collapsed": false,
    "ExecuteTime": {
     "end_time": "2024-08-21T15:43:19.393941Z",
     "start_time": "2024-08-21T15:43:10.148677700Z"
    }
   },
   "id": "5a15f7312be6cad5",
   "execution_count": 6
  },
  {
   "cell_type": "code",
   "outputs": [
    {
     "name": "stderr",
     "output_type": "stream",
     "text": [
      "C:\\Users\\HC\\AppData\\Local\\Temp\\ipykernel_6480\\951052091.py:5: RuntimeWarning: Mean of empty slice.\n",
      "  q1_vec[i] = np.array([model[word] for word in sent if word in model.key_to_index.keys()]).mean(axis=0).reshape(1,300)\n",
      "C:\\Users\\HC\\AppData\\Local\\Programs\\Python\\Python312\\Lib\\site-packages\\numpy\\core\\_methods.py:129: RuntimeWarning: invalid value encountered in scalar divide\n",
      "  ret = ret.dtype.type(ret / rcount)\n"
     ]
    },
    {
     "data": {
      "text/plain": "array([[ 0.02308655,  0.07815552,  0.0296936 , ..., -0.09555054,\n         0.00782013, -0.02224731],\n       [-0.00160217, -0.02575684, -0.04202949, ..., -0.03423394,\n        -0.05346002, -0.02268812],\n       [-0.00748291,  0.12543945,  0.08405761, ..., -0.0394043 ,\n        -0.02369385, -0.00068359],\n       ...,\n       [-0.02265625,  0.02733765,  0.15146485, ...,  0.06694336,\n         0.04395752,  0.00100098],\n       [ 0.00355021, -0.00178358,  0.04909939, ..., -0.00846354,\n         0.04876031, -0.01139323],\n       [ 0.09771729,  0.04690043,  0.03007952, ..., -0.09377798,\n         0.0137736 , -0.11405945]])"
     },
     "execution_count": 7,
     "metadata": {},
     "output_type": "execute_result"
    }
   ],
   "source": [
    "q1_vec = np.zeros((df.shape[0], 300))\n",
    "\n",
    "for i, sent in enumerate(processed_q1):\n",
    "    try:\n",
    "        q1_vec[i] = np.array([model[word] for word in sent if word in model.key_to_index.keys()]).mean(axis=0).reshape(1,300)\n",
    "    except Exception:\n",
    "        pass\n",
    "q1_vec"
   ],
   "metadata": {
    "collapsed": false,
    "ExecuteTime": {
     "end_time": "2024-08-21T15:43:28.464318800Z",
     "start_time": "2024-08-21T15:43:19.394939100Z"
    }
   },
   "id": "dc4a2d7afe698af6",
   "execution_count": 7
  },
  {
   "cell_type": "code",
   "outputs": [
    {
     "name": "stderr",
     "output_type": "stream",
     "text": [
      "C:\\Users\\HC\\AppData\\Local\\Temp\\ipykernel_6480\\1229570918.py:5: RuntimeWarning: Mean of empty slice.\n",
      "  q2_vec[i] = np.array([model[word] for word in sent if word in model.key_to_index.keys()]).mean(axis=0).reshape(1,300)\n"
     ]
    },
    {
     "data": {
      "text/plain": "array([[ 0.06525094,  0.080516  ,  0.02884347, ..., -0.01147461,\n         0.05054583,  0.00990513],\n       [-0.00846447, -0.01443759, -0.01350264, ..., -0.02633112,\n        -0.02716619, -0.02132624],\n       [ 0.02401123,  0.11965332,  0.03813476, ..., -0.0097168 ,\n         0.00054932, -0.00844727],\n       ...,\n       [-0.00664814,  0.03408579,  0.10863084, ...,  0.03679951,\n         0.04028203, -0.06043361],\n       [ 0.03333537, -0.03607178,  0.05369398, ..., -0.06072998,\n         0.02909342, -0.04174805],\n       [ 0.02455648,  0.05138143,  0.04125977, ..., -0.09195963,\n        -0.05578613,  0.06557211]])"
     },
     "execution_count": 8,
     "metadata": {},
     "output_type": "execute_result"
    }
   ],
   "source": [
    "q2_vec = np.zeros((df.shape[0], 300))\n",
    "\n",
    "for i, sent in enumerate(processed_q2):\n",
    "    try:\n",
    "        q2_vec[i] = np.array([model[word] for word in sent if word in model.key_to_index.keys()]).mean(axis=0).reshape(1,300)\n",
    "    except Exception:\n",
    "        pass\n",
    "q2_vec"
   ],
   "metadata": {
    "collapsed": false,
    "ExecuteTime": {
     "end_time": "2024-08-21T15:43:36.343827400Z",
     "start_time": "2024-08-21T15:43:28.460325300Z"
    }
   },
   "id": "c956b537bb8ac7fc",
   "execution_count": 8
  },
  {
   "cell_type": "code",
   "outputs": [],
   "source": [
    "encoded_qs = pd.DataFrame(np.hstack([q1_vec, q2_vec]))"
   ],
   "metadata": {
    "collapsed": false,
    "ExecuteTime": {
     "end_time": "2024-08-21T15:43:36.735725Z",
     "start_time": "2024-08-21T15:43:36.338840800Z"
    }
   },
   "id": "16d9c83fbbb6e674",
   "execution_count": 9
  },
  {
   "cell_type": "code",
   "outputs": [],
   "source": [
    "data = pd.concat([df.reset_index(), encoded_qs], axis=1).drop(\"index\", axis=1)"
   ],
   "metadata": {
    "collapsed": false,
    "ExecuteTime": {
     "end_time": "2024-08-21T15:55:12.301313800Z",
     "start_time": "2024-08-21T15:55:09.740759700Z"
    }
   },
   "id": "3eace8caf160ca25",
   "execution_count": 20
  },
  {
   "cell_type": "code",
   "outputs": [],
   "source": [
    "data.to_csv(\"data.csv\", index=False)"
   ],
   "metadata": {
    "collapsed": false,
    "ExecuteTime": {
     "end_time": "2024-08-21T15:59:17.866314700Z",
     "start_time": "2024-08-21T15:55:37.502870500Z"
    }
   },
   "id": "d0ceac9b30919811",
   "execution_count": 21
  }
 ],
 "metadata": {
  "kernelspec": {
   "display_name": "Python 3",
   "language": "python",
   "name": "python3"
  },
  "language_info": {
   "codemirror_mode": {
    "name": "ipython",
    "version": 2
   },
   "file_extension": ".py",
   "mimetype": "text/x-python",
   "name": "python",
   "nbconvert_exporter": "python",
   "pygments_lexer": "ipython2",
   "version": "2.7.6"
  }
 },
 "nbformat": 4,
 "nbformat_minor": 5
}
